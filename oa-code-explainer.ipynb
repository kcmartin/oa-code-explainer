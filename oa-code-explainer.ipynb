{
 "cells": [
  {
   "cell_type": "code",
   "execution_count": 1,
   "id": "fd157f7f-c5f3-4301-ab75-e63c23ad0edd",
   "metadata": {
    "tags": []
   },
   "outputs": [],
   "source": [
    "import os\n",
    "import openai"
   ]
  },
  {
   "cell_type": "code",
   "execution_count": 2,
   "id": "8e5e23d6-5042-4eaa-a8ac-ffa2316fd199",
   "metadata": {
    "tags": []
   },
   "outputs": [],
   "source": [
    "openai.api_key = os.getenv('OPENAI_API_KEY')"
   ]
  },
  {
   "cell_type": "code",
   "execution_count": 3,
   "id": "8f924fe9-59bb-4278-bb6b-6d0736fe80d9",
   "metadata": {
    "tags": []
   },
   "outputs": [],
   "source": [
    "# Python\n",
    "# Functions (OOP)\n",
    "# \"\"\" \"\"\""
   ]
  },
  {
   "cell_type": "code",
   "execution_count": 7,
   "id": "a78228be-ee65-4c0f-8767-57b8b22ae5f1",
   "metadata": {
    "tags": []
   },
   "outputs": [],
   "source": [
    "def hello(name):\n",
    "    print(f\"Hello {name}\")"
   ]
  },
  {
   "cell_type": "code",
   "execution_count": 8,
   "id": "5b5f7f82-0fd5-481b-9bf8-23610a939966",
   "metadata": {
    "tags": []
   },
   "outputs": [
    {
     "name": "stdout",
     "output_type": "stream",
     "text": [
      "Hello Kristin\n"
     ]
    }
   ],
   "source": [
    "hello(\"Kristin\")"
   ]
  },
  {
   "cell_type": "code",
   "execution_count": 10,
   "id": "853a4bcc-d2d8-4c31-9907-ca8361d4e560",
   "metadata": {
    "tags": []
   },
   "outputs": [],
   "source": [
    "def docstring_prompt(code):\n",
    "    prompt = f\"{code}\\n # A high quality python docstring of the above Python function:\\n \\\"\\\"\\\"\"\n",
    "    return prompt"
   ]
  },
  {
   "cell_type": "code",
   "execution_count": 11,
   "id": "ef8ca1df-72b0-45a5-8850-44f43129e55f",
   "metadata": {
    "tags": []
   },
   "outputs": [],
   "source": [
    "import inspect"
   ]
  },
  {
   "cell_type": "code",
   "execution_count": 13,
   "id": "2f6996c4-158b-4497-8e27-7037d4f68c27",
   "metadata": {
    "tags": []
   },
   "outputs": [
    {
     "name": "stdout",
     "output_type": "stream",
     "text": [
      "def hello(name):\n",
      "    print(f\"Hello {name}\")\n",
      "\n"
     ]
    }
   ],
   "source": [
    "print(inspect.getsource(hello))"
   ]
  },
  {
   "cell_type": "code",
   "execution_count": 15,
   "id": "36b4f456-785b-4b74-a1a0-0df166db4382",
   "metadata": {
    "tags": []
   },
   "outputs": [
    {
     "name": "stdout",
     "output_type": "stream",
     "text": [
      "def hello(name):\n",
      "    print(f\"Hello {name}\")\n",
      "\n",
      " # A high quality python docstring of the above Python function:\n",
      " \"\"\"\n"
     ]
    }
   ],
   "source": [
    "print(docstring_prompt(inspect.getsource(hello)))"
   ]
  },
  {
   "cell_type": "code",
   "execution_count": 17,
   "id": "2b82d7ba-f9dd-4b01-9fd3-10b51de02c78",
   "metadata": {
    "tags": []
   },
   "outputs": [],
   "source": [
    "response = openai.Completion.create(\n",
    "            model='text-davinci-003',\n",
    "            prompt = docstring_prompt(inspect.getsource(hello)),\n",
    "            temperature = 0,\n",
    "            max_tokens = 100,\n",
    "            top_p=1.0,\n",
    "            stop=[\"\\\"\\\"\\\"\"]\n",
    ")   "
   ]
  },
  {
   "cell_type": "code",
   "execution_count": 19,
   "id": "34f3a5bb-9a51-47fa-b5f2-3152b17a7b22",
   "metadata": {
    "tags": []
   },
   "outputs": [
    {
     "name": "stdout",
     "output_type": "stream",
     "text": [
      "\n",
      "This function prints a greeting to the given name.\n",
      "\n",
      "Parameters:\n",
      "name (str): The name of the person to greet.\n",
      "\n",
      "Returns:\n",
      "None\n",
      " \n"
     ]
    }
   ],
   "source": [
    "print(response['choices'][0]['text'])"
   ]
  },
  {
   "cell_type": "code",
   "execution_count": 20,
   "id": "dba81eba-326d-4230-9e4d-7253c63bd5c0",
   "metadata": {
    "tags": []
   },
   "outputs": [],
   "source": [
    "# how to merge docstring and function\n",
    "# first line of function (def myfunc():)\n",
    "# \"\"\"\n",
    "# DOCSTRING (COMPLETION API)\n",
    "# \"\"\" (They weren't included because they were specified as stop tokens)\n",
    "# REST OF THE FUNCTION"
   ]
  },
  {
   "cell_type": "code",
   "execution_count": 21,
   "id": "5d9f5f92-d231-44ca-a39d-bddbccae94ba",
   "metadata": {
    "tags": []
   },
   "outputs": [],
   "source": [
    "def merge_docstring_and_function(original_function,docstring):\n",
    "    function_string = inspect.getsource(original_function)\n",
    "    split = function_string.split('\\n')\n",
    "    first_part,second_part = split[0],split[1:]\n",
    "    \n",
    "    merged_function = first_part+'\\n    \"\"\"'+docstring+'    \"\"\"'+'\\n'+'\\n'.join(second_part)\n",
    "    \n",
    "    return merged_function"
   ]
  },
  {
   "cell_type": "code",
   "execution_count": 22,
   "id": "758f5695-d3b4-4755-9a95-2722dd171b8f",
   "metadata": {
    "tags": []
   },
   "outputs": [
    {
     "name": "stdout",
     "output_type": "stream",
     "text": [
      "def hello(name):\n",
      "    \"\"\"\n",
      "This function prints a greeting to the given name.\n",
      "\n",
      "Parameters:\n",
      "name (str): The name of the person to greet.\n",
      "\n",
      "Returns:\n",
      "None\n",
      "     \"\"\"\n",
      "    print(f\"Hello {name}\")\n",
      "\n"
     ]
    }
   ],
   "source": [
    "print(merge_docstring_and_function(hello,response['choices'][0]['text']))"
   ]
  },
  {
   "cell_type": "code",
   "execution_count": null,
   "id": "6bb4a2fb-3dbe-4ffa-a70f-358476d8f4c7",
   "metadata": {},
   "outputs": [],
   "source": []
  }
 ],
 "metadata": {
  "kernelspec": {
   "display_name": "Python 3 (ipykernel)",
   "language": "python",
   "name": "python3"
  },
  "language_info": {
   "codemirror_mode": {
    "name": "ipython",
    "version": 3
   },
   "file_extension": ".py",
   "mimetype": "text/x-python",
   "name": "python",
   "nbconvert_exporter": "python",
   "pygments_lexer": "ipython3",
   "version": "3.11.2"
  }
 },
 "nbformat": 4,
 "nbformat_minor": 5
}
